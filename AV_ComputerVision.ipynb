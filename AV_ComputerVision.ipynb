{
  "nbformat": 4,
  "nbformat_minor": 0,
  "metadata": {
    "kernelspec": {
      "display_name": "Python 3",
      "language": "python",
      "name": "python3"
    },
    "colab": {
      "name": "AV_ComputerVision.ipynb",
      "provenance": [],
      "collapsed_sections": []
    },
    "accelerator": "GPU",
    "widgets": {
      "application/vnd.jupyter.widget-state+json": {
        "6c4d7640c98d4c948296f34a4b9245a3": {
          "model_module": "@jupyter-widgets/controls",
          "model_name": "HBoxModel",
          "state": {
            "_view_name": "HBoxView",
            "_dom_classes": [],
            "_model_name": "HBoxModel",
            "_view_module": "@jupyter-widgets/controls",
            "_model_module_version": "1.5.0",
            "_view_count": null,
            "_view_module_version": "1.5.0",
            "box_style": "",
            "layout": "IPY_MODEL_b4e5d1062b804c54b77f0136e4e37ea5",
            "_model_module": "@jupyter-widgets/controls",
            "children": [
              "IPY_MODEL_3d0f75017e1747f7902942bd8d3974e0",
              "IPY_MODEL_46d1631d9fb54b19bc84bbb8ae9c8b58"
            ]
          }
        },
        "b4e5d1062b804c54b77f0136e4e37ea5": {
          "model_module": "@jupyter-widgets/base",
          "model_name": "LayoutModel",
          "state": {
            "_view_name": "LayoutView",
            "grid_template_rows": null,
            "right": null,
            "justify_content": null,
            "_view_module": "@jupyter-widgets/base",
            "overflow": null,
            "_model_module_version": "1.2.0",
            "_view_count": null,
            "flex_flow": null,
            "width": null,
            "min_width": null,
            "border": null,
            "align_items": null,
            "bottom": null,
            "_model_module": "@jupyter-widgets/base",
            "top": null,
            "grid_column": null,
            "overflow_y": null,
            "overflow_x": null,
            "grid_auto_flow": null,
            "grid_area": null,
            "grid_template_columns": null,
            "flex": null,
            "_model_name": "LayoutModel",
            "justify_items": null,
            "grid_row": null,
            "max_height": null,
            "align_content": null,
            "visibility": null,
            "align_self": null,
            "height": null,
            "min_height": null,
            "padding": null,
            "grid_auto_rows": null,
            "grid_gap": null,
            "max_width": null,
            "order": null,
            "_view_module_version": "1.2.0",
            "grid_template_areas": null,
            "object_position": null,
            "object_fit": null,
            "grid_auto_columns": null,
            "margin": null,
            "display": null,
            "left": null
          }
        },
        "3d0f75017e1747f7902942bd8d3974e0": {
          "model_module": "@jupyter-widgets/controls",
          "model_name": "FloatProgressModel",
          "state": {
            "_view_name": "ProgressView",
            "style": "IPY_MODEL_5e52185153304a2eaf1c142e580f46d1",
            "_dom_classes": [],
            "description": "100%",
            "_model_name": "FloatProgressModel",
            "bar_style": "success",
            "max": 178728960,
            "_view_module": "@jupyter-widgets/controls",
            "_model_module_version": "1.5.0",
            "value": 178728960,
            "_view_count": null,
            "_view_module_version": "1.5.0",
            "orientation": "horizontal",
            "min": 0,
            "description_tooltip": null,
            "_model_module": "@jupyter-widgets/controls",
            "layout": "IPY_MODEL_129fc17d14964b66a8acd782ba8144bb"
          }
        },
        "46d1631d9fb54b19bc84bbb8ae9c8b58": {
          "model_module": "@jupyter-widgets/controls",
          "model_name": "HTMLModel",
          "state": {
            "_view_name": "HTMLView",
            "style": "IPY_MODEL_519f3c2aefe34c6a9099b8b3dbc9bbc0",
            "_dom_classes": [],
            "description": "",
            "_model_name": "HTMLModel",
            "placeholder": "​",
            "_view_module": "@jupyter-widgets/controls",
            "_model_module_version": "1.5.0",
            "value": " 170M/170M [00:01&lt;00:00, 130MB/s]",
            "_view_count": null,
            "_view_module_version": "1.5.0",
            "description_tooltip": null,
            "_model_module": "@jupyter-widgets/controls",
            "layout": "IPY_MODEL_cadecae2da1d4df1b8390fde2aa1d1ee"
          }
        },
        "5e52185153304a2eaf1c142e580f46d1": {
          "model_module": "@jupyter-widgets/controls",
          "model_name": "ProgressStyleModel",
          "state": {
            "_view_name": "StyleView",
            "_model_name": "ProgressStyleModel",
            "description_width": "initial",
            "_view_module": "@jupyter-widgets/base",
            "_model_module_version": "1.5.0",
            "_view_count": null,
            "_view_module_version": "1.2.0",
            "bar_color": null,
            "_model_module": "@jupyter-widgets/controls"
          }
        },
        "129fc17d14964b66a8acd782ba8144bb": {
          "model_module": "@jupyter-widgets/base",
          "model_name": "LayoutModel",
          "state": {
            "_view_name": "LayoutView",
            "grid_template_rows": null,
            "right": null,
            "justify_content": null,
            "_view_module": "@jupyter-widgets/base",
            "overflow": null,
            "_model_module_version": "1.2.0",
            "_view_count": null,
            "flex_flow": null,
            "width": null,
            "min_width": null,
            "border": null,
            "align_items": null,
            "bottom": null,
            "_model_module": "@jupyter-widgets/base",
            "top": null,
            "grid_column": null,
            "overflow_y": null,
            "overflow_x": null,
            "grid_auto_flow": null,
            "grid_area": null,
            "grid_template_columns": null,
            "flex": null,
            "_model_name": "LayoutModel",
            "justify_items": null,
            "grid_row": null,
            "max_height": null,
            "align_content": null,
            "visibility": null,
            "align_self": null,
            "height": null,
            "min_height": null,
            "padding": null,
            "grid_auto_rows": null,
            "grid_gap": null,
            "max_width": null,
            "order": null,
            "_view_module_version": "1.2.0",
            "grid_template_areas": null,
            "object_position": null,
            "object_fit": null,
            "grid_auto_columns": null,
            "margin": null,
            "display": null,
            "left": null
          }
        },
        "519f3c2aefe34c6a9099b8b3dbc9bbc0": {
          "model_module": "@jupyter-widgets/controls",
          "model_name": "DescriptionStyleModel",
          "state": {
            "_view_name": "StyleView",
            "_model_name": "DescriptionStyleModel",
            "description_width": "",
            "_view_module": "@jupyter-widgets/base",
            "_model_module_version": "1.5.0",
            "_view_count": null,
            "_view_module_version": "1.2.0",
            "_model_module": "@jupyter-widgets/controls"
          }
        },
        "cadecae2da1d4df1b8390fde2aa1d1ee": {
          "model_module": "@jupyter-widgets/base",
          "model_name": "LayoutModel",
          "state": {
            "_view_name": "LayoutView",
            "grid_template_rows": null,
            "right": null,
            "justify_content": null,
            "_view_module": "@jupyter-widgets/base",
            "overflow": null,
            "_model_module_version": "1.2.0",
            "_view_count": null,
            "flex_flow": null,
            "width": null,
            "min_width": null,
            "border": null,
            "align_items": null,
            "bottom": null,
            "_model_module": "@jupyter-widgets/base",
            "top": null,
            "grid_column": null,
            "overflow_y": null,
            "overflow_x": null,
            "grid_auto_flow": null,
            "grid_area": null,
            "grid_template_columns": null,
            "flex": null,
            "_model_name": "LayoutModel",
            "justify_items": null,
            "grid_row": null,
            "max_height": null,
            "align_content": null,
            "visibility": null,
            "align_self": null,
            "height": null,
            "min_height": null,
            "padding": null,
            "grid_auto_rows": null,
            "grid_gap": null,
            "max_width": null,
            "order": null,
            "_view_module_version": "1.2.0",
            "grid_template_areas": null,
            "object_position": null,
            "object_fit": null,
            "grid_auto_columns": null,
            "margin": null,
            "display": null,
            "left": null
          }
        }
      }
    }
  },
  "cells": [
    {
      "cell_type": "code",
      "metadata": {
        "id": "QpGceqaETrLK",
        "colab_type": "code",
        "colab": {
          "base_uri": "https://localhost:8080/",
          "height": 122
        },
        "outputId": "5094cede-6238-4e05-c0a3-c878395fd201"
      },
      "source": [
        "from google.colab import drive\n",
        "drive.mount('/content/drive')"
      ],
      "execution_count": 1,
      "outputs": [
        {
          "output_type": "stream",
          "text": [
            "Go to this URL in a browser: https://accounts.google.com/o/oauth2/auth?client_id=947318989803-6bn6qk8qdgf4n4g3pfee6491hc0brc4i.apps.googleusercontent.com&redirect_uri=urn%3aietf%3awg%3aoauth%3a2.0%3aoob&response_type=code&scope=email%20https%3a%2f%2fwww.googleapis.com%2fauth%2fdocs.test%20https%3a%2f%2fwww.googleapis.com%2fauth%2fdrive%20https%3a%2f%2fwww.googleapis.com%2fauth%2fdrive.photos.readonly%20https%3a%2f%2fwww.googleapis.com%2fauth%2fpeopleapi.readonly\n",
            "\n",
            "Enter your authorization code:\n",
            "··········\n",
            "Mounted at /content/drive\n"
          ],
          "name": "stdout"
        }
      ]
    },
    {
      "cell_type": "code",
      "metadata": {
        "id": "dTZ4z2Tx92Sv",
        "colab_type": "code",
        "colab": {
          "base_uri": "https://localhost:8080/",
          "height": 751
        },
        "outputId": "0973519d-3cb6-4822-d593-28736ee83fd5"
      },
      "source": [
        "!pip install fastai"
      ],
      "execution_count": 2,
      "outputs": [
        {
          "output_type": "stream",
          "text": [
            "Requirement already satisfied: fastai in /usr/local/lib/python3.6/dist-packages (1.0.61)\n",
            "Requirement already satisfied: Pillow in /usr/local/lib/python3.6/dist-packages (from fastai) (7.0.0)\n",
            "Requirement already satisfied: requests in /usr/local/lib/python3.6/dist-packages (from fastai) (2.23.0)\n",
            "Requirement already satisfied: beautifulsoup4 in /usr/local/lib/python3.6/dist-packages (from fastai) (4.6.3)\n",
            "Requirement already satisfied: dataclasses; python_version < \"3.7\" in /usr/local/lib/python3.6/dist-packages (from fastai) (0.7)\n",
            "Requirement already satisfied: fastprogress>=0.2.1 in /usr/local/lib/python3.6/dist-packages (from fastai) (0.2.3)\n",
            "Requirement already satisfied: matplotlib in /usr/local/lib/python3.6/dist-packages (from fastai) (3.2.2)\n",
            "Requirement already satisfied: spacy>=2.0.18; python_version < \"3.8\" in /usr/local/lib/python3.6/dist-packages (from fastai) (2.2.4)\n",
            "Requirement already satisfied: pyyaml in /usr/local/lib/python3.6/dist-packages (from fastai) (3.13)\n",
            "Requirement already satisfied: torch>=1.0.0 in /usr/local/lib/python3.6/dist-packages (from fastai) (1.5.1+cu101)\n",
            "Requirement already satisfied: bottleneck in /usr/local/lib/python3.6/dist-packages (from fastai) (1.3.2)\n",
            "Requirement already satisfied: scipy in /usr/local/lib/python3.6/dist-packages (from fastai) (1.4.1)\n",
            "Requirement already satisfied: numpy>=1.15 in /usr/local/lib/python3.6/dist-packages (from fastai) (1.18.5)\n",
            "Requirement already satisfied: packaging in /usr/local/lib/python3.6/dist-packages (from fastai) (20.4)\n",
            "Requirement already satisfied: nvidia-ml-py3 in /usr/local/lib/python3.6/dist-packages (from fastai) (7.352.0)\n",
            "Requirement already satisfied: numexpr in /usr/local/lib/python3.6/dist-packages (from fastai) (2.7.1)\n",
            "Requirement already satisfied: pandas in /usr/local/lib/python3.6/dist-packages (from fastai) (1.0.5)\n",
            "Requirement already satisfied: torchvision in /usr/local/lib/python3.6/dist-packages (from fastai) (0.6.1+cu101)\n",
            "Requirement already satisfied: chardet<4,>=3.0.2 in /usr/local/lib/python3.6/dist-packages (from requests->fastai) (3.0.4)\n",
            "Requirement already satisfied: urllib3!=1.25.0,!=1.25.1,<1.26,>=1.21.1 in /usr/local/lib/python3.6/dist-packages (from requests->fastai) (1.24.3)\n",
            "Requirement already satisfied: certifi>=2017.4.17 in /usr/local/lib/python3.6/dist-packages (from requests->fastai) (2020.4.5.2)\n",
            "Requirement already satisfied: idna<3,>=2.5 in /usr/local/lib/python3.6/dist-packages (from requests->fastai) (2.9)\n",
            "Requirement already satisfied: python-dateutil>=2.1 in /usr/local/lib/python3.6/dist-packages (from matplotlib->fastai) (2.8.1)\n",
            "Requirement already satisfied: cycler>=0.10 in /usr/local/lib/python3.6/dist-packages (from matplotlib->fastai) (0.10.0)\n",
            "Requirement already satisfied: kiwisolver>=1.0.1 in /usr/local/lib/python3.6/dist-packages (from matplotlib->fastai) (1.2.0)\n",
            "Requirement already satisfied: pyparsing!=2.0.4,!=2.1.2,!=2.1.6,>=2.0.1 in /usr/local/lib/python3.6/dist-packages (from matplotlib->fastai) (2.4.7)\n",
            "Requirement already satisfied: tqdm<5.0.0,>=4.38.0 in /usr/local/lib/python3.6/dist-packages (from spacy>=2.0.18; python_version < \"3.8\"->fastai) (4.41.1)\n",
            "Requirement already satisfied: preshed<3.1.0,>=3.0.2 in /usr/local/lib/python3.6/dist-packages (from spacy>=2.0.18; python_version < \"3.8\"->fastai) (3.0.2)\n",
            "Requirement already satisfied: srsly<1.1.0,>=1.0.2 in /usr/local/lib/python3.6/dist-packages (from spacy>=2.0.18; python_version < \"3.8\"->fastai) (1.0.2)\n",
            "Requirement already satisfied: catalogue<1.1.0,>=0.0.7 in /usr/local/lib/python3.6/dist-packages (from spacy>=2.0.18; python_version < \"3.8\"->fastai) (1.0.0)\n",
            "Requirement already satisfied: blis<0.5.0,>=0.4.0 in /usr/local/lib/python3.6/dist-packages (from spacy>=2.0.18; python_version < \"3.8\"->fastai) (0.4.1)\n",
            "Requirement already satisfied: plac<1.2.0,>=0.9.6 in /usr/local/lib/python3.6/dist-packages (from spacy>=2.0.18; python_version < \"3.8\"->fastai) (1.1.3)\n",
            "Requirement already satisfied: thinc==7.4.0 in /usr/local/lib/python3.6/dist-packages (from spacy>=2.0.18; python_version < \"3.8\"->fastai) (7.4.0)\n",
            "Requirement already satisfied: setuptools in /usr/local/lib/python3.6/dist-packages (from spacy>=2.0.18; python_version < \"3.8\"->fastai) (47.3.1)\n",
            "Requirement already satisfied: wasabi<1.1.0,>=0.4.0 in /usr/local/lib/python3.6/dist-packages (from spacy>=2.0.18; python_version < \"3.8\"->fastai) (0.6.0)\n",
            "Requirement already satisfied: murmurhash<1.1.0,>=0.28.0 in /usr/local/lib/python3.6/dist-packages (from spacy>=2.0.18; python_version < \"3.8\"->fastai) (1.0.2)\n",
            "Requirement already satisfied: cymem<2.1.0,>=2.0.2 in /usr/local/lib/python3.6/dist-packages (from spacy>=2.0.18; python_version < \"3.8\"->fastai) (2.0.3)\n",
            "Requirement already satisfied: future in /usr/local/lib/python3.6/dist-packages (from torch>=1.0.0->fastai) (0.16.0)\n",
            "Requirement already satisfied: six in /usr/local/lib/python3.6/dist-packages (from packaging->fastai) (1.12.0)\n",
            "Requirement already satisfied: pytz>=2017.2 in /usr/local/lib/python3.6/dist-packages (from pandas->fastai) (2018.9)\n",
            "Requirement already satisfied: importlib-metadata>=0.20; python_version < \"3.8\" in /usr/local/lib/python3.6/dist-packages (from catalogue<1.1.0,>=0.0.7->spacy>=2.0.18; python_version < \"3.8\"->fastai) (1.6.1)\n",
            "Requirement already satisfied: zipp>=0.5 in /usr/local/lib/python3.6/dist-packages (from importlib-metadata>=0.20; python_version < \"3.8\"->catalogue<1.1.0,>=0.0.7->spacy>=2.0.18; python_version < \"3.8\"->fastai) (3.1.0)\n"
          ],
          "name": "stdout"
        }
      ]
    },
    {
      "cell_type": "code",
      "metadata": {
        "id": "BgOsApcC96Q8",
        "colab_type": "code",
        "colab": {}
      },
      "source": [
        "import zipfile\n",
        "with zipfile.ZipFile(\"/content/drive/My Drive/Colab Notebooks/JanathaHack/train_SOaYf6m.zip\",\"r\") as zip_ref:\n",
        "    zip_ref.extractall(\"input\")"
      ],
      "execution_count": 3,
      "outputs": []
    },
    {
      "cell_type": "code",
      "metadata": {
        "id": "16yuaIjV7gye",
        "colab_type": "code",
        "colab": {
          "base_uri": "https://localhost:8080/",
          "height": 88
        },
        "outputId": "a8ca273b-b614-4c49-8ff6-b38b44e0f88d"
      },
      "source": [
        "import numpy as np\n",
        "import pandas as pd \n",
        "import seaborn as sns\n",
        "import matplotlib.pyplot as plt\n",
        "import os\n",
        "import cv2\n",
        "import glob\n",
        "print(os.listdir(\"input/\"))\n",
        "\n",
        "# Any results you write to the current directory are saved as output."
      ],
      "execution_count": 4,
      "outputs": [
        {
          "output_type": "stream",
          "text": [
            "/usr/local/lib/python3.6/dist-packages/statsmodels/tools/_testing.py:19: FutureWarning: pandas.util.testing is deprecated. Use the functions in the public API at pandas.testing instead.\n",
            "  import pandas.util.testing as tm\n"
          ],
          "name": "stderr"
        },
        {
          "output_type": "stream",
          "text": [
            "['train.csv', 'images', 'sample_submission_yxjOnvz.csv', 'test.csv']\n"
          ],
          "name": "stdout"
        }
      ]
    },
    {
      "cell_type": "code",
      "metadata": {
        "id": "4R6638mI7gzF",
        "colab_type": "code",
        "colab": {}
      },
      "source": [
        "from pathlib import Path\n",
        "from fastai import *\n",
        "from fastai.vision import *\n",
        "import torch\n",
        "from fastai.callbacks.hooks import *"
      ],
      "execution_count": 5,
      "outputs": []
    },
    {
      "cell_type": "code",
      "metadata": {
        "id": "PpntUSxs7gzd",
        "colab_type": "code",
        "colab": {}
      },
      "source": [
        "data_folder = Path(\"input/\")"
      ],
      "execution_count": 6,
      "outputs": []
    },
    {
      "cell_type": "code",
      "metadata": {
        "id": "PWfZttE27gzy",
        "colab_type": "code",
        "colab": {}
      },
      "source": [
        "data_path = \"input/images/\"\n",
        "path = os.path.join(data_path , \"*jpg\")"
      ],
      "execution_count": 7,
      "outputs": []
    },
    {
      "cell_type": "code",
      "metadata": {
        "id": "gtY8WETI7g0E",
        "colab_type": "code",
        "colab": {}
      },
      "source": [
        ""
      ],
      "execution_count": null,
      "outputs": []
    },
    {
      "cell_type": "code",
      "metadata": {
        "id": "OMQo0VMnTAxU",
        "colab_type": "code",
        "colab": {}
      },
      "source": [
        ""
      ],
      "execution_count": null,
      "outputs": []
    },
    {
      "cell_type": "code",
      "metadata": {
        "id": "Ll5grWZC7g0X",
        "colab_type": "code",
        "colab": {}
      },
      "source": [
        "train_df = pd.read_csv('input/train.csv')\n",
        "test_df = pd.read_csv('input/test.csv')\n",
        "submit = pd.read_csv('input/sample_submission_yxjOnvz.csv')"
      ],
      "execution_count": 8,
      "outputs": []
    },
    {
      "cell_type": "code",
      "metadata": {
        "id": "B5A59e67TJ-p",
        "colab_type": "code",
        "colab": {}
      },
      "source": [
        "train_imagesdf=[]\n",
        "for file1 in train_df[\"image_names\"].values:\n",
        "      image = cv2.imread(\"input/images/\"+file1)\n",
        "      train_imagesdf.append(image)\n",
        "test_imagesdf=[]\n",
        "for file1 in test_df[\"image_names\"].values:\n",
        "      image = cv2.imread(\"input/images/\"+file1)\n",
        "      test_imagesdf.append(image)"
      ],
      "execution_count": 9,
      "outputs": []
    },
    {
      "cell_type": "code",
      "metadata": {
        "id": "eXFUloBQ7g0m",
        "colab_type": "code",
        "colab": {
          "base_uri": "https://localhost:8080/",
          "height": 34
        },
        "outputId": "ff216bc9-5e7a-4299-b20f-0220fdd802c6"
      },
      "source": [
        "train_df.shape, test_df.shape"
      ],
      "execution_count": 10,
      "outputs": [
        {
          "output_type": "execute_result",
          "data": {
            "text/plain": [
              "((1646, 2), (706, 1))"
            ]
          },
          "metadata": {
            "tags": []
          },
          "execution_count": 10
        }
      ]
    },
    {
      "cell_type": "code",
      "metadata": {
        "id": "B0v0qTWRRSwY",
        "colab_type": "code",
        "colab": {}
      },
      "source": [
        ""
      ],
      "execution_count": 11,
      "outputs": []
    },
    {
      "cell_type": "code",
      "metadata": {
        "id": "6hCLzjVD7g2N",
        "colab_type": "code",
        "colab": {
          "base_uri": "https://localhost:8080/",
          "height": 298
        },
        "outputId": "dac568c1-5d3a-4999-a64f-dd46488e2287"
      },
      "source": [
        "sns.countplot(x='emergency_or_not' , data=train_df)"
      ],
      "execution_count": 11,
      "outputs": [
        {
          "output_type": "execute_result",
          "data": {
            "text/plain": [
              "<matplotlib.axes._subplots.AxesSubplot at 0x7f652e712d68>"
            ]
          },
          "metadata": {
            "tags": []
          },
          "execution_count": 11
        },
        {
          "output_type": "display_data",
          "data": {
            "image/png": "[encoded data removed]",
            "text/plain": [
              "<Figure size 432x288 with 1 Axes>"
            ]
          },
          "metadata": {
            "tags": [],
            "needs_background": "light"
          }
        }
      ]
    },
    {
      "cell_type": "code",
      "metadata": {
        "id": "N1Hw5f6i7g22",
        "colab_type": "code",
        "colab": {}
      },
      "source": [
        "train_images = train_imagesdf\n",
        "test_images= test_imagesdf"
      ],
      "execution_count": 12,
      "outputs": []
    },
    {
      "cell_type": "code",
      "metadata": {
        "id": "D81cIKh57g4E",
        "colab_type": "code",
        "colab": {}
      },
      "source": [
        "tfms = get_transforms(do_flip=True,flip_vert=False ,max_rotate=10.0, max_zoom=1.22, max_lighting=0.22, max_warp=0.0, p_affine=0.75,\n",
        "                      p_lighting=0.75)\n",
        "\n",
        "test_img = ImageList.from_df(test_df, path=data_folder, folder='images')"
      ],
      "execution_count": 13,
      "outputs": []
    },
    {
      "cell_type": "code",
      "metadata": {
        "id": "lcQwJL-hhMWo",
        "colab_type": "code",
        "colab": {
          "base_uri": "https://localhost:8080/",
          "height": 241
        },
        "outputId": "9c2423aa-b48b-4dff-a4d2-3714edd66eef"
      },
      "source": [
        "test_img[0]"
      ],
      "execution_count": 14,
      "outputs": [
        {
          "output_type": "execute_result",
          "data": {
            "image/png": "[encoded data removed]",
            "image/jpeg": "[encoded data removed]",
            "text/plain": [
              "Image (3, 224, 224)"
            ]
          },
          "metadata": {
            "tags": []
          },
          "execution_count": 14
        }
      ]
    },
    {
      "cell_type": "code",
      "metadata": {
        "id": "tHfoLqfX7g4S",
        "colab_type": "code",
        "colab": {}
      },
      "source": [
        "np.random.seed(145)\n",
        "## create source of train image databunch\n",
        "src = (ImageList.from_df(train_df, path=data_folder, folder='images')\n",
        "       .split_by_rand_pct(0.2)\n",
        "      #  .split_none()\n",
        "       .label_from_df()\n",
        "       .add_test(test_img))"
      ],
      "execution_count": 15,
      "outputs": []
    },
    {
      "cell_type": "code",
      "metadata": {
        "id": "AV8c63-H7g4k",
        "colab_type": "code",
        "colab": {}
      },
      "source": [
        "data = (src.transform(tfms, size=299,padding_mode='reflection',resize_method=ResizeMethod.SQUISH)\n",
        "        .databunch(path='.', bs=32, device= torch.device('cuda:0')).normalize(imagenet_stats))"
      ],
      "execution_count": 16,
      "outputs": []
    },
    {
      "cell_type": "code",
      "metadata": {
        "id": "PngMhBQu7g40",
        "colab_type": "code",
        "colab": {
          "base_uri": "https://localhost:8080/",
          "height": 34
        },
        "outputId": "7c8b14fe-2fe8-4e3a-e918-f3dc7201c95a"
      },
      "source": [
        "print(data.classes)"
      ],
      "execution_count": 17,
      "outputs": [
        {
          "output_type": "stream",
          "text": [
            "[0, 1]\n"
          ],
          "name": "stdout"
        }
      ]
    },
    {
      "cell_type": "code",
      "metadata": {
        "id": "naFZfxFj7g5A",
        "colab_type": "code",
        "colab": {
          "base_uri": "https://localhost:8080/",
          "height": 103,
          "referenced_widgets": [
            "6c4d7640c98d4c948296f34a4b9245a3",
            "b4e5d1062b804c54b77f0136e4e37ea5",
            "3d0f75017e1747f7902942bd8d3974e0",
            "46d1631d9fb54b19bc84bbb8ae9c8b58",
            "5e52185153304a2eaf1c142e580f46d1",
            "129fc17d14964b66a8acd782ba8144bb",
            "519f3c2aefe34c6a9099b8b3dbc9bbc0",
            "cadecae2da1d4df1b8390fde2aa1d1ee"
          ]
        },
        "outputId": "96d195db-059e-420a-b2ba-10cc0df43f37"
      },
      "source": [
        "#resnet152, densenet201, resnet101\n",
        "learn = cnn_learner(data=data, base_arch=models.resnet101, metrics=[FBeta(beta=1, average='macro'), accuracy],\n",
        "                    callback_fns=ShowGraph)"
      ],
      "execution_count": 18,
      "outputs": [
        {
          "output_type": "stream",
          "text": [
            "Downloading: \"https://download.pytorch.org/models/resnet101-5d3b4d8f.pth\" to /root/.cache/torch/checkpoints/resnet101-5d3b4d8f.pth\n"
          ],
          "name": "stderr"
        },
        {
          "output_type": "display_data",
          "data": {
            "application/vnd.jupyter.widget-view+json": {
              "model_id": "6c4d7640c98d4c948296f34a4b9245a3",
              "version_minor": 0,
              "version_major": 2
            },
            "text/plain": [
              "HBox(children=(FloatProgress(value=0.0, max=178728960.0), HTML(value='')))"
            ]
          },
          "metadata": {
            "tags": []
          }
        },
        {
          "output_type": "stream",
          "text": [
            "\n"
          ],
          "name": "stdout"
        }
      ]
    },
    {
      "cell_type": "code",
      "metadata": {
        "id": "WjT7KSag7g5I",
        "colab_type": "code",
        "colab": {
          "base_uri": "https://localhost:8080/",
          "height": 1000
        },
        "outputId": "7554fce9-9ba0-485e-8dc1-1f6b5e8d8bd8"
      },
      "source": [
        "learn.summary()"
      ],
      "execution_count": 19,
      "outputs": [
        {
          "output_type": "execute_result",
          "data": {
            "text/plain": [
              "Sequential\n",
              "======================================================================\n",
              "Layer (type)         Output Shape         Param #    Trainable \n",
              "======================================================================\n",
              "Conv2d               [64, 150, 150]       9,408      False     \n",
              "______________________________________________________________________\n",
              "BatchNorm2d          [64, 150, 150]       128        True      \n",
              "______________________________________________________________________\n",
              "ReLU                 [64, 150, 150]       0          False     \n",
              "______________________________________________________________________\n",
              "MaxPool2d            [64, 75, 75]         0          False     \n",
              "______________________________________________________________________\n",
              "Conv2d               [64, 75, 75]         4,096      False     \n",
              "______________________________________________________________________\n",
              "BatchNorm2d          [64, 75, 75]         128        True      \n",
              "______________________________________________________________________\n",
              "Conv2d               [64, 75, 75]         36,864     False     \n",
              "______________________________________________________________________\n",
              "BatchNorm2d          [64, 75, 75]         128        True      \n",
              "______________________________________________________________________\n",
              "Conv2d               [256, 75, 75]        16,384     False     \n",
              "______________________________________________________________________\n",
              "BatchNorm2d          [256, 75, 75]        512        True      \n",
              "______________________________________________________________________\n",
              "ReLU                 [256, 75, 75]        0          False     \n",
              "______________________________________________________________________\n",
              "Conv2d               [256, 75, 75]        16,384     False     \n",
              "______________________________________________________________________\n",
              "BatchNorm2d          [256, 75, 75]        512        True      \n",
              "______________________________________________________________________\n",
              "Conv2d               [64, 75, 75]         16,384     False     \n",
              "______________________________________________________________________\n",
              "BatchNorm2d          [64, 75, 75]         128        True      \n",
              "______________________________________________________________________\n",
              "Conv2d               [64, 75, 75]         36,864     False     \n",
              "______________________________________________________________________\n",
              "BatchNorm2d          [64, 75, 75]         128        True      \n",
              "______________________________________________________________________\n",
              "Conv2d               [256, 75, 75]        16,384     False     \n",
              "______________________________________________________________________\n",
              "BatchNorm2d          [256, 75, 75]        512        True      \n",
              "______________________________________________________________________\n",
              "ReLU                 [256, 75, 75]        0          False     \n",
              "______________________________________________________________________\n",
              "Conv2d               [64, 75, 75]         16,384     False     \n",
              "______________________________________________________________________\n",
              "BatchNorm2d          [64, 75, 75]         128        True      \n",
              "______________________________________________________________________\n",
              "Conv2d               [64, 75, 75]         36,864     False     \n",
              "______________________________________________________________________\n",
              "BatchNorm2d          [64, 75, 75]         128        True      \n",
              "______________________________________________________________________\n",
              "Conv2d               [256, 75, 75]        16,384     False     \n",
              "______________________________________________________________________\n",
              "BatchNorm2d          [256, 75, 75]        512        True      \n",
              "______________________________________________________________________\n",
              "ReLU                 [256, 75, 75]        0          False     \n",
              "______________________________________________________________________\n",
              "Conv2d               [128, 75, 75]        32,768     False     \n",
              "______________________________________________________________________\n",
              "BatchNorm2d          [128, 75, 75]        256        True      \n",
              "______________________________________________________________________\n",
              "Conv2d               [128, 38, 38]        147,456    False     \n",
              "______________________________________________________________________\n",
              "BatchNorm2d          [128, 38, 38]        256        True      \n",
              "______________________________________________________________________\n",
              "Conv2d               [512, 38, 38]        65,536     False     \n",
              "______________________________________________________________________\n",
              "BatchNorm2d          [512, 38, 38]        1,024      True      \n",
              "______________________________________________________________________\n",
              "ReLU                 [512, 38, 38]        0          False     \n",
              "______________________________________________________________________\n",
              "Conv2d               [512, 38, 38]        131,072    False     \n",
              "______________________________________________________________________\n",
              "BatchNorm2d          [512, 38, 38]        1,024      True      \n",
              "______________________________________________________________________\n",
              "Conv2d               [128, 38, 38]        65,536     False     \n",
              "______________________________________________________________________\n",
              "BatchNorm2d          [128, 38, 38]        256        True      \n",
              "______________________________________________________________________\n",
              "Conv2d               [128, 38, 38]        147,456    False     \n",
              "______________________________________________________________________\n",
              "BatchNorm2d          [128, 38, 38]        256        True      \n",
              "______________________________________________________________________\n",
              "Conv2d               [512, 38, 38]        65,536     False     \n",
              "______________________________________________________________________\n",
              "BatchNorm2d          [512, 38, 38]        1,024      True      \n",
              "______________________________________________________________________\n",
              "ReLU                 [512, 38, 38]        0          False     \n",
              "______________________________________________________________________\n",
              "Conv2d               [128, 38, 38]        65,536     False     \n",
              "______________________________________________________________________\n",
              "BatchNorm2d          [128, 38, 38]        256        True      \n",
              "______________________________________________________________________\n",
              "Conv2d               [128, 38, 38]        147,456    False     \n",
              "______________________________________________________________________\n",
              "BatchNorm2d          [128, 38, 38]        256        True      \n",
              "______________________________________________________________________\n",
              "Conv2d               [512, 38, 38]        65,536     False     \n",
              "______________________________________________________________________\n",
              "BatchNorm2d          [512, 38, 38]        1,024      True      \n",
              "______________________________________________________________________\n",
              "ReLU                 [512, 38, 38]        0          False     \n",
              "______________________________________________________________________\n",
              "Conv2d               [128, 38, 38]        65,536     False     \n",
              "______________________________________________________________________\n",
              "BatchNorm2d          [128, 38, 38]        256        True      \n",
              "______________________________________________________________________\n",
              "Conv2d               [128, 38, 38]        147,456    False     \n",
              "______________________________________________________________________\n",
              "BatchNorm2d          [128, 38, 38]        256        True      \n",
              "______________________________________________________________________\n",
              "Conv2d               [512, 38, 38]        65,536     False     \n",
              "______________________________________________________________________\n",
              "BatchNorm2d          [512, 38, 38]        1,024      True      \n",
              "______________________________________________________________________\n",
              "ReLU                 [512, 38, 38]        0          False     \n",
              "______________________________________________________________________\n",
              "Conv2d               [256, 38, 38]        131,072    False     \n",
              "______________________________________________________________________\n",
              "BatchNorm2d          [256, 38, 38]        512        True      \n",
              "______________________________________________________________________\n",
              "Conv2d               [256, 19, 19]        589,824    False     \n",
              "______________________________________________________________________\n",
              "BatchNorm2d          [256, 19, 19]        512        True      \n",
              "______________________________________________________________________\n",
              "Conv2d               [1024, 19, 19]       262,144    False     \n",
              "______________________________________________________________________\n",
              "BatchNorm2d          [1024, 19, 19]       2,048      True      \n",
              "______________________________________________________________________\n",
              "ReLU                 [1024, 19, 19]       0          False     \n",
              "______________________________________________________________________\n",
              "Conv2d               [1024, 19, 19]       524,288    False     \n",
              "______________________________________________________________________\n",
              "BatchNorm2d          [1024, 19, 19]       2,048      True      \n",
              "______________________________________________________________________\n",
              "Conv2d               [256, 19, 19]        262,144    False     \n",
              "______________________________________________________________________\n",
              "BatchNorm2d          [256, 19, 19]        512        True      \n",
              "______________________________________________________________________\n",
              "Conv2d               [256, 19, 19]        589,824    False     \n",
              "______________________________________________________________________\n",
              "BatchNorm2d          [256, 19, 19]        512        True      \n",
              "______________________________________________________________________\n",
              "Conv2d               [1024, 19, 19]       262,144    False     \n",
              "______________________________________________________________________\n",
              "BatchNorm2d          [1024, 19, 19]       2,048      True      \n",
              "______________________________________________________________________\n",
              "ReLU                 [1024, 19, 19]       0          False     \n",
              "______________________________________________________________________\n",
              "Conv2d               [256, 19, 19]        262,144    False     \n",
              "______________________________________________________________________\n",
              "BatchNorm2d          [256, 19, 19]        512        True      \n",
              "______________________________________________________________________\n",
              "Conv2d               [256, 19, 19]        589,824    False     \n",
              "______________________________________________________________________\n",
              "BatchNorm2d          [256, 19, 19]        512        True      \n",
              "______________________________________________________________________\n",
              "Conv2d               [1024, 19, 19]       262,144    False     \n",
              "______________________________________________________________________\n",
              "BatchNorm2d          [1024, 19, 19]       2,048      True      \n",
              "______________________________________________________________________\n",
              "ReLU                 [1024, 19, 19]       0          False     \n",
              "______________________________________________________________________\n",
              "Conv2d               [256, 19, 19]        262,144    False     \n",
              "______________________________________________________________________\n",
              "BatchNorm2d          [256, 19, 19]        512        True      \n",
              "______________________________________________________________________\n",
              "Conv2d               [256, 19, 19]        589,824    False     \n",
              "______________________________________________________________________\n",
              "BatchNorm2d          [256, 19, 19]        512        True      \n",
              "______________________________________________________________________\n",
              "Conv2d               [1024, 19, 19]       262,144    False     \n",
              "______________________________________________________________________\n",
              "BatchNorm2d          [1024, 19, 19]       2,048      True      \n",
              "______________________________________________________________________\n",
              "ReLU                 [1024, 19, 19]       0          False     \n",
              "______________________________________________________________________\n",
              "Conv2d               [256, 19, 19]        262,144    False     \n",
              "______________________________________________________________________\n",
              "BatchNorm2d          [256, 19, 19]        512        True      \n",
              "______________________________________________________________________\n",
              "Conv2d               [256, 19, 19]        589,824    False     \n",
              "______________________________________________________________________\n",
              "BatchNorm2d          [256, 19, 19]        512        True      \n",
              "______________________________________________________________________\n",
              "Conv2d               [1024, 19, 19]       262,144    False     \n",
              "______________________________________________________________________\n",
              "BatchNorm2d          [1024, 19, 19]       2,048      True      \n",
              "______________________________________________________________________\n",
              "ReLU                 [1024, 19, 19]       0          False     \n",
              "______________________________________________________________________\n",
              "Conv2d               [256, 19, 19]        262,144    False     \n",
              "______________________________________________________________________\n",
              "BatchNorm2d          [256, 19, 19]        512        True      \n",
              "______________________________________________________________________\n",
              "Conv2d               [256, 19, 19]        589,824    False     \n",
              "______________________________________________________________________\n",
              "BatchNorm2d          [256, 19, 19]        512        True      \n",
              "______________________________________________________________________\n",
              "Conv2d               [1024, 19, 19]       262,144    False     \n",
              "______________________________________________________________________\n",
              "BatchNorm2d          [1024, 19, 19]       2,048      True      \n",
              "______________________________________________________________________\n",
              "ReLU                 [1024, 19, 19]       0          False     \n",
              "______________________________________________________________________\n",
              "Conv2d               [256, 19, 19]        262,144    False     \n",
              "______________________________________________________________________\n",
              "BatchNorm2d          [256, 19, 19]        512        True      \n",
              "______________________________________________________________________\n",
              "Conv2d               [256, 19, 19]        589,824    False     \n",
              "______________________________________________________________________\n",
              "BatchNorm2d          [256, 19, 19]        512        True      \n",
              "______________________________________________________________________\n",
              "Conv2d               [1024, 19, 19]       262,144    False     \n",
              "______________________________________________________________________\n",
              "BatchNorm2d          [1024, 19, 19]       2,048      True      \n",
              "______________________________________________________________________\n",
              "ReLU                 [1024, 19, 19]       0          False     \n",
              "______________________________________________________________________\n",
              "Conv2d               [256, 19, 19]        262,144    False     \n",
              "______________________________________________________________________\n",
              "BatchNorm2d          [256, 19, 19]        512        True      \n",
              "______________________________________________________________________\n",
              "Conv2d               [256, 19, 19]        589,824    False     \n",
              "______________________________________________________________________\n",
              "BatchNorm2d          [256, 19, 19]        512        True      \n",
              "______________________________________________________________________\n",
              "Conv2d               [1024, 19, 19]       262,144    False     \n",
              "______________________________________________________________________\n",
              "BatchNorm2d          [1024, 19, 19]       2,048      True      \n",
              "______________________________________________________________________\n",
              "ReLU                 [1024, 19, 19]       0          False     \n",
              "______________________________________________________________________\n",
              "Conv2d               [256, 19, 19]        262,144    False     \n",
              "______________________________________________________________________\n",
              "BatchNorm2d          [256, 19, 19]        512        True      \n",
              "______________________________________________________________________\n",
              "Conv2d               [256, 19, 19]        589,824    False     \n",
              "______________________________________________________________________\n",
              "BatchNorm2d          [256, 19, 19]        512        True      \n",
              "______________________________________________________________________\n",
              "Conv2d               [1024, 19, 19]       262,144    False     \n",
              "______________________________________________________________________\n",
              "BatchNorm2d          [1024, 19, 19]       2,048      True      \n",
              "______________________________________________________________________\n",
              "ReLU                 [1024, 19, 19]       0          False     \n",
              "______________________________________________________________________\n",
              "Conv2d               [256, 19, 19]        262,144    False     \n",
              "______________________________________________________________________\n",
              "BatchNorm2d          [256, 19, 19]        512        True      \n",
              "______________________________________________________________________\n",
              "Conv2d               [256, 19, 19]        589,824    False     \n",
              "______________________________________________________________________\n",
              "BatchNorm2d          [256, 19, 19]        512        True      \n",
              "______________________________________________________________________\n",
              "Conv2d               [1024, 19, 19]       262,144    False     \n",
              "______________________________________________________________________\n",
              "BatchNorm2d          [1024, 19, 19]       2,048      True      \n",
              "______________________________________________________________________\n",
              "ReLU                 [1024, 19, 19]       0          False     \n",
              "______________________________________________________________________\n",
              "Conv2d               [256, 19, 19]        262,144    False     \n",
              "______________________________________________________________________\n",
              "BatchNorm2d          [256, 19, 19]        512        True      \n",
              "______________________________________________________________________\n",
              "Conv2d               [256, 19, 19]        589,824    False     \n",
              "______________________________________________________________________\n",
              "BatchNorm2d          [256, 19, 19]        512        True      \n",
              "______________________________________________________________________\n",
              "Conv2d               [1024, 19, 19]       262,144    False     \n",
              "______________________________________________________________________\n",
              "BatchNorm2d          [1024, 19, 19]       2,048      True      \n",
              "______________________________________________________________________\n",
              "ReLU                 [1024, 19, 19]       0          False     \n",
              "______________________________________________________________________\n",
              "Conv2d               [256, 19, 19]        262,144    False     \n",
              "______________________________________________________________________\n",
              "BatchNorm2d          [256, 19, 19]        512        True      \n",
              "______________________________________________________________________\n",
              "Conv2d               [256, 19, 19]        589,824    False     \n",
              "______________________________________________________________________\n",
              "BatchNorm2d          [256, 19, 19]        512        True      \n",
              "______________________________________________________________________\n",
              "Conv2d               [1024, 19, 19]       262,144    False     \n",
              "______________________________________________________________________\n",
              "BatchNorm2d          [1024, 19, 19]       2,048      True      \n",
              "______________________________________________________________________\n",
              "ReLU                 [1024, 19, 19]       0          False     \n",
              "______________________________________________________________________\n",
              "Conv2d               [256, 19, 19]        262,144    False     \n",
              "______________________________________________________________________\n",
              "BatchNorm2d          [256, 19, 19]        512        True      \n",
              "______________________________________________________________________\n",
              "Conv2d               [256, 19, 19]        589,824    False     \n",
              "______________________________________________________________________\n",
              "BatchNorm2d          [256, 19, 19]        512        True      \n",
              "______________________________________________________________________\n",
              "Conv2d               [1024, 19, 19]       262,144    False     \n",
              "______________________________________________________________________\n",
              "BatchNorm2d          [1024, 19, 19]       2,048      True      \n",
              "______________________________________________________________________\n",
              "ReLU                 [1024, 19, 19]       0          False     \n",
              "______________________________________________________________________\n",
              "Conv2d               [256, 19, 19]        262,144    False     \n",
              "______________________________________________________________________\n",
              "BatchNorm2d          [256, 19, 19]        512        True      \n",
              "______________________________________________________________________\n",
              "Conv2d               [256, 19, 19]        589,824    False     \n",
              "______________________________________________________________________\n",
              "BatchNorm2d          [256, 19, 19]        512        True      \n",
              "______________________________________________________________________\n",
              "Conv2d               [1024, 19, 19]       262,144    False     \n",
              "______________________________________________________________________\n",
              "BatchNorm2d          [1024, 19, 19]       2,048      True      \n",
              "______________________________________________________________________\n",
              "ReLU                 [1024, 19, 19]       0          False     \n",
              "______________________________________________________________________\n",
              "Conv2d               [256, 19, 19]        262,144    False     \n",
              "______________________________________________________________________\n",
              "BatchNorm2d          [256, 19, 19]        512        True      \n",
              "______________________________________________________________________\n",
              "Conv2d               [256, 19, 19]        589,824    False     \n",
              "______________________________________________________________________\n",
              "BatchNorm2d          [256, 19, 19]        512        True      \n",
              "______________________________________________________________________\n",
              "Conv2d               [1024, 19, 19]       262,144    False     \n",
              "______________________________________________________________________\n",
              "BatchNorm2d          [1024, 19, 19]       2,048      True      \n",
              "______________________________________________________________________\n",
              "ReLU                 [1024, 19, 19]       0          False     \n",
              "______________________________________________________________________\n",
              "Conv2d               [256, 19, 19]        262,144    False     \n",
              "______________________________________________________________________\n",
              "BatchNorm2d          [256, 19, 19]        512        True      \n",
              "______________________________________________________________________\n",
              "Conv2d               [256, 19, 19]        589,824    False     \n",
              "______________________________________________________________________\n",
              "BatchNorm2d          [256, 19, 19]        512        True      \n",
              "______________________________________________________________________\n",
              "Conv2d               [1024, 19, 19]       262,144    False     \n",
              "______________________________________________________________________\n",
              "BatchNorm2d          [1024, 19, 19]       2,048      True      \n",
              "______________________________________________________________________\n",
              "ReLU                 [1024, 19, 19]       0          False     \n",
              "______________________________________________________________________\n",
              "Conv2d               [256, 19, 19]        262,144    False     \n",
              "______________________________________________________________________\n",
              "BatchNorm2d          [256, 19, 19]        512        True      \n",
              "______________________________________________________________________\n",
              "Conv2d               [256, 19, 19]        589,824    False     \n",
              "______________________________________________________________________\n",
              "BatchNorm2d          [256, 19, 19]        512        True      \n",
              "______________________________________________________________________\n",
              "Conv2d               [1024, 19, 19]       262,144    False     \n",
              "______________________________________________________________________\n",
              "BatchNorm2d          [1024, 19, 19]       2,048      True      \n",
              "______________________________________________________________________\n",
              "ReLU                 [1024, 19, 19]       0          False     \n",
              "______________________________________________________________________\n",
              "Conv2d               [256, 19, 19]        262,144    False     \n",
              "______________________________________________________________________\n",
              "BatchNorm2d          [256, 19, 19]        512        True      \n",
              "______________________________________________________________________\n",
              "Conv2d               [256, 19, 19]        589,824    False     \n",
              "______________________________________________________________________\n",
              "BatchNorm2d          [256, 19, 19]        512        True      \n",
              "______________________________________________________________________\n",
              "Conv2d               [1024, 19, 19]       262,144    False     \n",
              "______________________________________________________________________\n",
              "BatchNorm2d          [1024, 19, 19]       2,048      True      \n",
              "______________________________________________________________________\n",
              "ReLU                 [1024, 19, 19]       0          False     \n",
              "______________________________________________________________________\n",
              "Conv2d               [256, 19, 19]        262,144    False     \n",
              "______________________________________________________________________\n",
              "BatchNorm2d          [256, 19, 19]        512        True      \n",
              "______________________________________________________________________\n",
              "Conv2d               [256, 19, 19]        589,824    False     \n",
              "______________________________________________________________________\n",
              "BatchNorm2d          [256, 19, 19]        512        True      \n",
              "______________________________________________________________________\n",
              "Conv2d               [1024, 19, 19]       262,144    False     \n",
              "______________________________________________________________________\n",
              "BatchNorm2d          [1024, 19, 19]       2,048      True      \n",
              "______________________________________________________________________\n",
              "ReLU                 [1024, 19, 19]       0          False     \n",
              "______________________________________________________________________\n",
              "Conv2d               [256, 19, 19]        262,144    False     \n",
              "______________________________________________________________________\n",
              "BatchNorm2d          [256, 19, 19]        512        True      \n",
              "______________________________________________________________________\n",
              "Conv2d               [256, 19, 19]        589,824    False     \n",
              "______________________________________________________________________\n",
              "BatchNorm2d          [256, 19, 19]        512        True      \n",
              "______________________________________________________________________\n",
              "Conv2d               [1024, 19, 19]       262,144    False     \n",
              "______________________________________________________________________\n",
              "BatchNorm2d          [1024, 19, 19]       2,048      True      \n",
              "______________________________________________________________________\n",
              "ReLU                 [1024, 19, 19]       0          False     \n",
              "______________________________________________________________________\n",
              "Conv2d               [256, 19, 19]        262,144    False     \n",
              "______________________________________________________________________\n",
              "BatchNorm2d          [256, 19, 19]        512        True      \n",
              "______________________________________________________________________\n",
              "Conv2d               [256, 19, 19]        589,824    False     \n",
              "______________________________________________________________________\n",
              "BatchNorm2d          [256, 19, 19]        512        True      \n",
              "______________________________________________________________________\n",
              "Conv2d               [1024, 19, 19]       262,144    False     \n",
              "______________________________________________________________________\n",
              "BatchNorm2d          [1024, 19, 19]       2,048      True      \n",
              "______________________________________________________________________\n",
              "ReLU                 [1024, 19, 19]       0          False     \n",
              "______________________________________________________________________\n",
              "Conv2d               [256, 19, 19]        262,144    False     \n",
              "______________________________________________________________________\n",
              "BatchNorm2d          [256, 19, 19]        512        True      \n",
              "______________________________________________________________________\n",
              "Conv2d               [256, 19, 19]        589,824    False     \n",
              "______________________________________________________________________\n",
              "BatchNorm2d          [256, 19, 19]        512        True      \n",
              "______________________________________________________________________\n",
              "Conv2d               [1024, 19, 19]       262,144    False     \n",
              "______________________________________________________________________\n",
              "BatchNorm2d          [1024, 19, 19]       2,048      True      \n",
              "______________________________________________________________________\n",
              "ReLU                 [1024, 19, 19]       0          False     \n",
              "______________________________________________________________________\n",
              "Conv2d               [256, 19, 19]        262,144    False     \n",
              "______________________________________________________________________\n",
              "BatchNorm2d          [256, 19, 19]        512        True      \n",
              "______________________________________________________________________\n",
              "Conv2d               [256, 19, 19]        589,824    False     \n",
              "______________________________________________________________________\n",
              "BatchNorm2d          [256, 19, 19]        512        True      \n",
              "______________________________________________________________________\n",
              "Conv2d               [1024, 19, 19]       262,144    False     \n",
              "______________________________________________________________________\n",
              "BatchNorm2d          [1024, 19, 19]       2,048      True      \n",
              "______________________________________________________________________\n",
              "ReLU                 [1024, 19, 19]       0          False     \n",
              "______________________________________________________________________\n",
              "Conv2d               [512, 19, 19]        524,288    False     \n",
              "______________________________________________________________________\n",
              "BatchNorm2d          [512, 19, 19]        1,024      True      \n",
              "______________________________________________________________________\n",
              "Conv2d               [512, 10, 10]        2,359,296  False     \n",
              "______________________________________________________________________\n",
              "BatchNorm2d          [512, 10, 10]        1,024      True      \n",
              "______________________________________________________________________\n",
              "Conv2d               [2048, 10, 10]       1,048,576  False     \n",
              "______________________________________________________________________\n",
              "BatchNorm2d          [2048, 10, 10]       4,096      True      \n",
              "______________________________________________________________________\n",
              "ReLU                 [2048, 10, 10]       0          False     \n",
              "______________________________________________________________________\n",
              "Conv2d               [2048, 10, 10]       2,097,152  False     \n",
              "______________________________________________________________________\n",
              "BatchNorm2d          [2048, 10, 10]       4,096      True      \n",
              "______________________________________________________________________\n",
              "Conv2d               [512, 10, 10]        1,048,576  False     \n",
              "______________________________________________________________________\n",
              "BatchNorm2d          [512, 10, 10]        1,024      True      \n",
              "______________________________________________________________________\n",
              "Conv2d               [512, 10, 10]        2,359,296  False     \n",
              "______________________________________________________________________\n",
              "BatchNorm2d          [512, 10, 10]        1,024      True      \n",
              "______________________________________________________________________\n",
              "Conv2d               [2048, 10, 10]       1,048,576  False     \n",
              "______________________________________________________________________\n",
              "BatchNorm2d          [2048, 10, 10]       4,096      True      \n",
              "______________________________________________________________________\n",
              "ReLU                 [2048, 10, 10]       0          False     \n",
              "______________________________________________________________________\n",
              "Conv2d               [512, 10, 10]        1,048,576  False     \n",
              "______________________________________________________________________\n",
              "BatchNorm2d          [512, 10, 10]        1,024      True      \n",
              "______________________________________________________________________\n",
              "Conv2d               [512, 10, 10]        2,359,296  False     \n",
              "______________________________________________________________________\n",
              "BatchNorm2d          [512, 10, 10]        1,024      True      \n",
              "______________________________________________________________________\n",
              "Conv2d               [2048, 10, 10]       1,048,576  False     \n",
              "______________________________________________________________________\n",
              "BatchNorm2d          [2048, 10, 10]       4,096      True      \n",
              "______________________________________________________________________\n",
              "ReLU                 [2048, 10, 10]       0          False     \n",
              "______________________________________________________________________\n",
              "AdaptiveAvgPool2d    [2048, 1, 1]         0          False     \n",
              "______________________________________________________________________\n",
              "AdaptiveMaxPool2d    [2048, 1, 1]         0          False     \n",
              "______________________________________________________________________\n",
              "Flatten              [4096]               0          False     \n",
              "______________________________________________________________________\n",
              "BatchNorm1d          [4096]               8,192      True      \n",
              "______________________________________________________________________\n",
              "Dropout              [4096]               0          False     \n",
              "______________________________________________________________________\n",
              "Linear               [512]                2,097,664  True      \n",
              "______________________________________________________________________\n",
              "ReLU                 [512]                0          False     \n",
              "______________________________________________________________________\n",
              "BatchNorm1d          [512]                1,024      True      \n",
              "______________________________________________________________________\n",
              "Dropout              [512]                0          False     \n",
              "______________________________________________________________________\n",
              "Linear               [2]                  1,026      True      \n",
              "______________________________________________________________________\n",
              "\n",
              "Total params: 44,608,066\n",
              "Total trainable params: 2,213,250\n",
              "Total non-trainable params: 42,394,816\n",
              "Optimized with 'torch.optim.adam.Adam', betas=(0.9, 0.99)\n",
              "Using true weight decay as discussed in https://www.fast.ai/2018/07/02/adam-weight-decay/ \n",
              "Loss function : FlattenedLoss\n",
              "======================================================================\n",
              "Callbacks functions applied "
            ]
          },
          "metadata": {
            "tags": []
          },
          "execution_count": 19
        }
      ]
    },
    {
      "cell_type": "code",
      "metadata": {
        "id": "UIZw_Lmx7g5S",
        "colab_type": "code",
        "colab": {
          "base_uri": "https://localhost:8080/",
          "height": 470
        },
        "outputId": "c82a4a67-e634-4121-c15a-93717c7d24f5"
      },
      "source": [
        "learn.lr_find()\n",
        "learn.recorder.plot(suggestion=True)"
      ],
      "execution_count": 20,
      "outputs": [
        {
          "output_type": "display_data",
          "data": {
            "text/html": [
              "\n",
              "    <div>\n",
              "        <style>\n",
              "            /* Turns off some styling */\n",
              "            progress {\n",
              "                /* gets rid of default border in Firefox and Opera. */\n",
              "                border: none;\n",
              "                /* Needs to be in here for Safari polyfill so background images work as expected. */\n",
              "                background-size: auto;\n",
              "            }\n",
              "            .progress-bar-interrupted, .progress-bar-interrupted::-webkit-progress-bar {\n",
              "                background: #F44336;\n",
              "            }\n",
              "        </style>\n",
              "      <progress value='2' class='' max='3' style='width:300px; height:20px; vertical-align: middle;'></progress>\n",
              "      66.67% [2/3 02:07<01:03]\n",
              "    </div>\n",
              "    \n",
              "<table border=\"1\" class=\"dataframe\">\n",
              "  <thead>\n",
              "    <tr style=\"text-align: left;\">\n",
              "      <th>epoch</th>\n",
              "      <th>train_loss</th>\n",
              "      <th>valid_loss</th>\n",
              "      <th>f_beta</th>\n",
              "      <th>accuracy</th>\n",
              "      <th>time</th>\n",
              "    </tr>\n",
              "  </thead>\n",
              "  <tbody>\n",
              "    <tr>\n",
              "      <td>0</td>\n",
              "      <td>1.153065</td>\n",
              "      <td>#na#</td>\n",
              "      <td>01:06</td>\n",
              "    </tr>\n",
              "    <tr>\n",
              "      <td>1</td>\n",
              "      <td>1.203393</td>\n",
              "      <td>#na#</td>\n",
              "      <td>01:00</td>\n",
              "    </tr>\n",
              "  </tbody>\n",
              "</table><p>\n",
              "\n",
              "    <div>\n",
              "        <style>\n",
              "            /* Turns off some styling */\n",
              "            progress {\n",
              "                /* gets rid of default border in Firefox and Opera. */\n",
              "                border: none;\n",
              "                /* Needs to be in here for Safari polyfill so background images work as expected. */\n",
              "                background-size: auto;\n",
              "            }\n",
              "            .progress-bar-interrupted, .progress-bar-interrupted::-webkit-progress-bar {\n",
              "                background: #F44336;\n",
              "            }\n",
              "        </style>\n",
              "      <progress value='5' class='' max='41' style='width:300px; height:20px; vertical-align: middle;'></progress>\n",
              "      12.20% [5/41 00:07<00:57 2.6910]\n",
              "    </div>\n",
              "    "
            ],
            "text/plain": [
              "<IPython.core.display.HTML object>"
            ]
          },
          "metadata": {
            "tags": []
          }
        },
        {
          "output_type": "stream",
          "text": [
            "LR Finder is complete, type {learner_name}.recorder.plot() to see the graph.\n",
            "Min numerical gradient: 9.12E-05\n",
            "Min loss divided by 10: 1.91E-03\n"
          ],
          "name": "stdout"
        },
        {
          "output_type": "display_data",
          "data": {
            "image/png": "[encoded data removed]",
            "text/plain": [
              "<Figure size 432x288 with 1 Axes>"
            ]
          },
          "metadata": {
            "tags": [],
            "needs_background": "light"
          }
        }
      ]
    },
    {
      "cell_type": "code",
      "metadata": {
        "id": "vHz9vVjN7g5f",
        "colab_type": "code",
        "colab": {
          "base_uri": "https://localhost:8080/",
          "height": 762
        },
        "outputId": "b5fd6950-ccb9-43fa-cf7b-408dcb9586f6"
      },
      "source": [
        "lr = 3e-03\n",
        "#learn.fit_one_cycle(10, slice(lr))\n",
        "learn.fit_one_cycle(15, slice(lr), wd=0.2)"
      ],
      "execution_count": 21,
      "outputs": [
        {
          "output_type": "display_data",
          "data": {
            "text/html": [
              "<table border=\"1\" class=\"dataframe\">\n",
              "  <thead>\n",
              "    <tr style=\"text-align: left;\">\n",
              "      <th>epoch</th>\n",
              "      <th>train_loss</th>\n",
              "      <th>valid_loss</th>\n",
              "      <th>f_beta</th>\n",
              "      <th>accuracy</th>\n",
              "      <th>time</th>\n",
              "    </tr>\n",
              "  </thead>\n",
              "  <tbody>\n",
              "    <tr>\n",
              "      <td>0</td>\n",
              "      <td>0.444030</td>\n",
              "      <td>0.247688</td>\n",
              "      <td>0.931061</td>\n",
              "      <td>0.933131</td>\n",
              "      <td>01:12</td>\n",
              "    </tr>\n",
              "    <tr>\n",
              "      <td>1</td>\n",
              "      <td>0.345835</td>\n",
              "      <td>0.318600</td>\n",
              "      <td>0.917553</td>\n",
              "      <td>0.920973</td>\n",
              "      <td>01:08</td>\n",
              "    </tr>\n",
              "    <tr>\n",
              "      <td>2</td>\n",
              "      <td>0.288398</td>\n",
              "      <td>0.377655</td>\n",
              "      <td>0.917337</td>\n",
              "      <td>0.920973</td>\n",
              "      <td>01:08</td>\n",
              "    </tr>\n",
              "    <tr>\n",
              "      <td>3</td>\n",
              "      <td>0.240887</td>\n",
              "      <td>0.279561</td>\n",
              "      <td>0.929039</td>\n",
              "      <td>0.933131</td>\n",
              "      <td>01:08</td>\n",
              "    </tr>\n",
              "    <tr>\n",
              "      <td>4</td>\n",
              "      <td>0.186726</td>\n",
              "      <td>0.200597</td>\n",
              "      <td>0.936580</td>\n",
              "      <td>0.939210</td>\n",
              "      <td>01:08</td>\n",
              "    </tr>\n",
              "    <tr>\n",
              "      <td>5</td>\n",
              "      <td>0.141630</td>\n",
              "      <td>0.220651</td>\n",
              "      <td>0.936062</td>\n",
              "      <td>0.939210</td>\n",
              "      <td>01:08</td>\n",
              "    </tr>\n",
              "    <tr>\n",
              "      <td>6</td>\n",
              "      <td>0.100447</td>\n",
              "      <td>0.186020</td>\n",
              "      <td>0.949264</td>\n",
              "      <td>0.951368</td>\n",
              "      <td>01:08</td>\n",
              "    </tr>\n",
              "    <tr>\n",
              "      <td>7</td>\n",
              "      <td>0.095417</td>\n",
              "      <td>0.186623</td>\n",
              "      <td>0.942922</td>\n",
              "      <td>0.945289</td>\n",
              "      <td>01:08</td>\n",
              "    </tr>\n",
              "    <tr>\n",
              "      <td>8</td>\n",
              "      <td>0.064255</td>\n",
              "      <td>0.163378</td>\n",
              "      <td>0.949264</td>\n",
              "      <td>0.951368</td>\n",
              "      <td>01:08</td>\n",
              "    </tr>\n",
              "    <tr>\n",
              "      <td>9</td>\n",
              "      <td>0.057275</td>\n",
              "      <td>0.176826</td>\n",
              "      <td>0.955606</td>\n",
              "      <td>0.957447</td>\n",
              "      <td>01:08</td>\n",
              "    </tr>\n",
              "    <tr>\n",
              "      <td>10</td>\n",
              "      <td>0.053193</td>\n",
              "      <td>0.199536</td>\n",
              "      <td>0.939344</td>\n",
              "      <td>0.942249</td>\n",
              "      <td>01:08</td>\n",
              "    </tr>\n",
              "    <tr>\n",
              "      <td>11</td>\n",
              "      <td>0.049637</td>\n",
              "      <td>0.159851</td>\n",
              "      <td>0.955932</td>\n",
              "      <td>0.957447</td>\n",
              "      <td>01:08</td>\n",
              "    </tr>\n",
              "    <tr>\n",
              "      <td>12</td>\n",
              "      <td>0.044952</td>\n",
              "      <td>0.156963</td>\n",
              "      <td>0.959031</td>\n",
              "      <td>0.960486</td>\n",
              "      <td>01:08</td>\n",
              "    </tr>\n",
              "    <tr>\n",
              "      <td>13</td>\n",
              "      <td>0.035093</td>\n",
              "      <td>0.160871</td>\n",
              "      <td>0.962137</td>\n",
              "      <td>0.963526</td>\n",
              "      <td>01:08</td>\n",
              "    </tr>\n",
              "    <tr>\n",
              "      <td>14</td>\n",
              "      <td>0.028297</td>\n",
              "      <td>0.167240</td>\n",
              "      <td>0.962044</td>\n",
              "      <td>0.963526</td>\n",
              "      <td>01:08</td>\n",
              "    </tr>\n",
              "  </tbody>\n",
              "</table>"
            ],
            "text/plain": [
              "<IPython.core.display.HTML object>"
            ]
          },
          "metadata": {
            "tags": []
          }
        },
        {
          "output_type": "display_data",
          "data": {
            "image/png": "[encoded data removed]",
            "text/plain": [
              "<Figure size 432x288 with 1 Axes>"
            ]
          },
          "metadata": {
            "tags": []
          }
        }
      ]
    },
    {
      "cell_type": "code",
      "metadata": {
        "id": "VzoSnfi9AnfX",
        "colab_type": "code",
        "colab": {
          "base_uri": "https://localhost:8080/",
          "height": 439
        },
        "outputId": "534e0cbc-f680-463e-87e4-a84400d8f7bb"
      },
      "source": [
        "learn.unfreeze()\n",
        "learn.lr_find()\n",
        "learn.recorder.plot(suggestion=True)"
      ],
      "execution_count": 23,
      "outputs": [
        {
          "output_type": "display_data",
          "data": {
            "text/html": [
              "\n",
              "    <div>\n",
              "        <style>\n",
              "            /* Turns off some styling */\n",
              "            progress {\n",
              "                /* gets rid of default border in Firefox and Opera. */\n",
              "                border: none;\n",
              "                /* Needs to be in here for Safari polyfill so background images work as expected. */\n",
              "                background-size: auto;\n",
              "            }\n",
              "            .progress-bar-interrupted, .progress-bar-interrupted::-webkit-progress-bar {\n",
              "                background: #F44336;\n",
              "            }\n",
              "        </style>\n",
              "      <progress value='1' class='' max='3' style='width:300px; height:20px; vertical-align: middle;'></progress>\n",
              "      33.33% [1/3 01:21<02:43]\n",
              "    </div>\n",
              "    \n",
              "<table border=\"1\" class=\"dataframe\">\n",
              "  <thead>\n",
              "    <tr style=\"text-align: left;\">\n",
              "      <th>epoch</th>\n",
              "      <th>train_loss</th>\n",
              "      <th>valid_loss</th>\n",
              "      <th>f_beta</th>\n",
              "      <th>accuracy</th>\n",
              "      <th>time</th>\n",
              "    </tr>\n",
              "  </thead>\n",
              "  <tbody>\n",
              "    <tr>\n",
              "      <td>0</td>\n",
              "      <td>0.021301</td>\n",
              "      <td>#na#</td>\n",
              "      <td>01:21</td>\n",
              "    </tr>\n",
              "  </tbody>\n",
              "</table><p>\n",
              "\n",
              "    <div>\n",
              "        <style>\n",
              "            /* Turns off some styling */\n",
              "            progress {\n",
              "                /* gets rid of default border in Firefox and Opera. */\n",
              "                border: none;\n",
              "                /* Needs to be in here for Safari polyfill so background images work as expected. */\n",
              "                background-size: auto;\n",
              "            }\n",
              "            .progress-bar-interrupted, .progress-bar-interrupted::-webkit-progress-bar {\n",
              "                background: #F44336;\n",
              "            }\n",
              "        </style>\n",
              "      <progress value='7' class='' max='41' style='width:300px; height:20px; vertical-align: middle;'></progress>\n",
              "      17.07% [7/41 00:14<01:10 0.0360]\n",
              "    </div>\n",
              "    "
            ],
            "text/plain": [
              "<IPython.core.display.HTML object>"
            ]
          },
          "metadata": {
            "tags": []
          }
        },
        {
          "output_type": "stream",
          "text": [
            "LR Finder is complete, type {learner_name}.recorder.plot() to see the graph.\n",
            "Min numerical gradient: 6.31E-07\n",
            "Min loss divided by 10: 2.09E-06\n"
          ],
          "name": "stdout"
        },
        {
          "output_type": "display_data",
          "data": {
            "image/png": "[encoded data removed]",
            "text/plain": [
              "<Figure size 432x288 with 1 Axes>"
            ]
          },
          "metadata": {
            "tags": [],
            "needs_background": "light"
          }
        }
      ]
    },
    {
      "cell_type": "code",
      "metadata": {
        "id": "ElkGM8wZB0Iy",
        "colab_type": "code",
        "colab": {
          "base_uri": "https://localhost:8080/",
          "height": 607
        },
        "outputId": "54e33f6f-c89b-4db1-8a41-c6b5d17d1a2a"
      },
      "source": [
        "learn.fit_one_cycle(10,slice(1e-05,lr/8),wd=0.15)"
      ],
      "execution_count": 24,
      "outputs": [
        {
          "output_type": "display_data",
          "data": {
            "text/html": [
              "<table border=\"1\" class=\"dataframe\">\n",
              "  <thead>\n",
              "    <tr style=\"text-align: left;\">\n",
              "      <th>epoch</th>\n",
              "      <th>train_loss</th>\n",
              "      <th>valid_loss</th>\n",
              "      <th>f_beta</th>\n",
              "      <th>accuracy</th>\n",
              "      <th>time</th>\n",
              "    </tr>\n",
              "  </thead>\n",
              "  <tbody>\n",
              "    <tr>\n",
              "      <td>0</td>\n",
              "      <td>0.035469</td>\n",
              "      <td>0.167403</td>\n",
              "      <td>0.958829</td>\n",
              "      <td>0.960486</td>\n",
              "      <td>01:29</td>\n",
              "    </tr>\n",
              "    <tr>\n",
              "      <td>1</td>\n",
              "      <td>0.037905</td>\n",
              "      <td>0.192872</td>\n",
              "      <td>0.952496</td>\n",
              "      <td>0.954407</td>\n",
              "      <td>01:29</td>\n",
              "    </tr>\n",
              "    <tr>\n",
              "      <td>2</td>\n",
              "      <td>0.074963</td>\n",
              "      <td>0.261674</td>\n",
              "      <td>0.916574</td>\n",
              "      <td>0.917933</td>\n",
              "      <td>01:29</td>\n",
              "    </tr>\n",
              "    <tr>\n",
              "      <td>3</td>\n",
              "      <td>0.093488</td>\n",
              "      <td>0.189777</td>\n",
              "      <td>0.939672</td>\n",
              "      <td>0.942249</td>\n",
              "      <td>01:29</td>\n",
              "    </tr>\n",
              "    <tr>\n",
              "      <td>4</td>\n",
              "      <td>0.066275</td>\n",
              "      <td>0.185591</td>\n",
              "      <td>0.949517</td>\n",
              "      <td>0.951368</td>\n",
              "      <td>01:29</td>\n",
              "    </tr>\n",
              "    <tr>\n",
              "      <td>5</td>\n",
              "      <td>0.044345</td>\n",
              "      <td>0.150984</td>\n",
              "      <td>0.955718</td>\n",
              "      <td>0.957447</td>\n",
              "      <td>01:29</td>\n",
              "    </tr>\n",
              "    <tr>\n",
              "      <td>6</td>\n",
              "      <td>0.044698</td>\n",
              "      <td>0.158536</td>\n",
              "      <td>0.955827</td>\n",
              "      <td>0.957447</td>\n",
              "      <td>01:28</td>\n",
              "    </tr>\n",
              "    <tr>\n",
              "      <td>7</td>\n",
              "      <td>0.032094</td>\n",
              "      <td>0.159100</td>\n",
              "      <td>0.955718</td>\n",
              "      <td>0.957447</td>\n",
              "      <td>01:29</td>\n",
              "    </tr>\n",
              "    <tr>\n",
              "      <td>8</td>\n",
              "      <td>0.020165</td>\n",
              "      <td>0.146708</td>\n",
              "      <td>0.955718</td>\n",
              "      <td>0.957447</td>\n",
              "      <td>01:29</td>\n",
              "    </tr>\n",
              "    <tr>\n",
              "      <td>9</td>\n",
              "      <td>0.013612</td>\n",
              "      <td>0.158688</td>\n",
              "      <td>0.955718</td>\n",
              "      <td>0.957447</td>\n",
              "      <td>01:29</td>\n",
              "    </tr>\n",
              "  </tbody>\n",
              "</table>"
            ],
            "text/plain": [
              "<IPython.core.display.HTML object>"
            ]
          },
          "metadata": {
            "tags": []
          }
        },
        {
          "output_type": "display_data",
          "data": {
            "image/png": "[encoded data removed]",
            "text/plain": [
              "<Figure size 432x288 with 1 Axes>"
            ]
          },
          "metadata": {
            "tags": []
          }
        }
      ]
    },
    {
      "cell_type": "code",
      "metadata": {
        "id": "bS1lDKCsCCXf",
        "colab_type": "code",
        "colab": {}
      },
      "source": [
        "learn.freeze_to(-10)"
      ],
      "execution_count": 25,
      "outputs": []
    },
    {
      "cell_type": "code",
      "metadata": {
        "id": "TqGCjMWgDEog",
        "colab_type": "code",
        "colab": {
          "base_uri": "https://localhost:8080/",
          "height": 439
        },
        "outputId": "eaa5e725-d567-47a3-f4f6-ff195eb2e00a"
      },
      "source": [
        "learn.lr_find()\n",
        "learn.recorder.plot(suggestion=True)"
      ],
      "execution_count": 26,
      "outputs": [
        {
          "output_type": "display_data",
          "data": {
            "text/html": [
              "\n",
              "    <div>\n",
              "        <style>\n",
              "            /* Turns off some styling */\n",
              "            progress {\n",
              "                /* gets rid of default border in Firefox and Opera. */\n",
              "                border: none;\n",
              "                /* Needs to be in here for Safari polyfill so background images work as expected. */\n",
              "                background-size: auto;\n",
              "            }\n",
              "            .progress-bar-interrupted, .progress-bar-interrupted::-webkit-progress-bar {\n",
              "                background: #F44336;\n",
              "            }\n",
              "        </style>\n",
              "      <progress value='1' class='' max='3' style='width:300px; height:20px; vertical-align: middle;'></progress>\n",
              "      33.33% [1/3 01:22<02:44]\n",
              "    </div>\n",
              "    \n",
              "<table border=\"1\" class=\"dataframe\">\n",
              "  <thead>\n",
              "    <tr style=\"text-align: left;\">\n",
              "      <th>epoch</th>\n",
              "      <th>train_loss</th>\n",
              "      <th>valid_loss</th>\n",
              "      <th>f_beta</th>\n",
              "      <th>accuracy</th>\n",
              "      <th>time</th>\n",
              "    </tr>\n",
              "  </thead>\n",
              "  <tbody>\n",
              "    <tr>\n",
              "      <td>0</td>\n",
              "      <td>0.015460</td>\n",
              "      <td>#na#</td>\n",
              "      <td>01:22</td>\n",
              "    </tr>\n",
              "  </tbody>\n",
              "</table><p>\n",
              "\n",
              "    <div>\n",
              "        <style>\n",
              "            /* Turns off some styling */\n",
              "            progress {\n",
              "                /* gets rid of default border in Firefox and Opera. */\n",
              "                border: none;\n",
              "                /* Needs to be in here for Safari polyfill so background images work as expected. */\n",
              "                background-size: auto;\n",
              "            }\n",
              "            .progress-bar-interrupted, .progress-bar-interrupted::-webkit-progress-bar {\n",
              "                background: #F44336;\n",
              "            }\n",
              "        </style>\n",
              "      <progress value='7' class='' max='41' style='width:300px; height:20px; vertical-align: middle;'></progress>\n",
              "      17.07% [7/41 00:14<01:11 0.0166]\n",
              "    </div>\n",
              "    "
            ],
            "text/plain": [
              "<IPython.core.display.HTML object>"
            ]
          },
          "metadata": {
            "tags": []
          }
        },
        {
          "output_type": "stream",
          "text": [
            "LR Finder is complete, type {learner_name}.recorder.plot() to see the graph.\n",
            "Min numerical gradient: 6.31E-07\n",
            "Min loss divided by 10: 1.91E-07\n"
          ],
          "name": "stdout"
        },
        {
          "output_type": "display_data",
          "data": {
            "image/png": "[encoded data removed]",
            "text/plain": [
              "<Figure size 432x288 with 1 Axes>"
            ]
          },
          "metadata": {
            "tags": [],
            "needs_background": "light"
          }
        }
      ]
    },
    {
      "cell_type": "code",
      "metadata": {
        "id": "O_x8rp8LDGX9",
        "colab_type": "code",
        "colab": {
          "base_uri": "https://localhost:8080/",
          "height": 483
        },
        "outputId": "a57a3761-7129-4be4-aee7-7e39c8502ce2"
      },
      "source": [
        "learn.fit_one_cycle(6, slice(1.1e-06, lr/10),wd=0.1)"
      ],
      "execution_count": 27,
      "outputs": [
        {
          "output_type": "display_data",
          "data": {
            "text/html": [
              "<table border=\"1\" class=\"dataframe\">\n",
              "  <thead>\n",
              "    <tr style=\"text-align: left;\">\n",
              "      <th>epoch</th>\n",
              "      <th>train_loss</th>\n",
              "      <th>valid_loss</th>\n",
              "      <th>f_beta</th>\n",
              "      <th>accuracy</th>\n",
              "      <th>time</th>\n",
              "    </tr>\n",
              "  </thead>\n",
              "  <tbody>\n",
              "    <tr>\n",
              "      <td>0</td>\n",
              "      <td>0.015593</td>\n",
              "      <td>0.158437</td>\n",
              "      <td>0.958932</td>\n",
              "      <td>0.960486</td>\n",
              "      <td>01:30</td>\n",
              "    </tr>\n",
              "    <tr>\n",
              "      <td>1</td>\n",
              "      <td>0.018070</td>\n",
              "      <td>0.164868</td>\n",
              "      <td>0.959031</td>\n",
              "      <td>0.960486</td>\n",
              "      <td>01:29</td>\n",
              "    </tr>\n",
              "    <tr>\n",
              "      <td>2</td>\n",
              "      <td>0.021880</td>\n",
              "      <td>0.159398</td>\n",
              "      <td>0.959031</td>\n",
              "      <td>0.960486</td>\n",
              "      <td>01:29</td>\n",
              "    </tr>\n",
              "    <tr>\n",
              "      <td>3</td>\n",
              "      <td>0.015392</td>\n",
              "      <td>0.178819</td>\n",
              "      <td>0.952614</td>\n",
              "      <td>0.954407</td>\n",
              "      <td>01:29</td>\n",
              "    </tr>\n",
              "    <tr>\n",
              "      <td>4</td>\n",
              "      <td>0.009580</td>\n",
              "      <td>0.179873</td>\n",
              "      <td>0.949392</td>\n",
              "      <td>0.951368</td>\n",
              "      <td>01:29</td>\n",
              "    </tr>\n",
              "    <tr>\n",
              "      <td>5</td>\n",
              "      <td>0.009671</td>\n",
              "      <td>0.183109</td>\n",
              "      <td>0.952614</td>\n",
              "      <td>0.954407</td>\n",
              "      <td>01:29</td>\n",
              "    </tr>\n",
              "  </tbody>\n",
              "</table>"
            ],
            "text/plain": [
              "<IPython.core.display.HTML object>"
            ]
          },
          "metadata": {
            "tags": []
          }
        },
        {
          "output_type": "display_data",
          "data": {
            "image/png": "[encoded data removed]",
            "text/plain": [
              "<Figure size 432x288 with 1 Axes>"
            ]
          },
          "metadata": {
            "tags": []
          }
        }
      ]
    },
    {
      "cell_type": "code",
      "metadata": {
        "id": "DYN-uet0ECB3",
        "colab_type": "code",
        "colab": {}
      },
      "source": [
        "learn.freeze_to(-3)"
      ],
      "execution_count": 28,
      "outputs": []
    },
    {
      "cell_type": "code",
      "metadata": {
        "id": "n357eX4MEpd-",
        "colab_type": "code",
        "colab": {
          "base_uri": "https://localhost:8080/",
          "height": 483
        },
        "outputId": "9056bd59-1ed9-45e3-cd32-0f5a1cad68a3"
      },
      "source": [
        "learn.fit_one_cycle(6, slice(4e-07, lr/20),wd=0.1)"
      ],
      "execution_count": 29,
      "outputs": [
        {
          "output_type": "display_data",
          "data": {
            "text/html": [
              "<table border=\"1\" class=\"dataframe\">\n",
              "  <thead>\n",
              "    <tr style=\"text-align: left;\">\n",
              "      <th>epoch</th>\n",
              "      <th>train_loss</th>\n",
              "      <th>valid_loss</th>\n",
              "      <th>f_beta</th>\n",
              "      <th>accuracy</th>\n",
              "      <th>time</th>\n",
              "    </tr>\n",
              "  </thead>\n",
              "  <tbody>\n",
              "    <tr>\n",
              "      <td>0</td>\n",
              "      <td>0.010801</td>\n",
              "      <td>0.182491</td>\n",
              "      <td>0.952614</td>\n",
              "      <td>0.954407</td>\n",
              "      <td>01:29</td>\n",
              "    </tr>\n",
              "    <tr>\n",
              "      <td>1</td>\n",
              "      <td>0.011341</td>\n",
              "      <td>0.180841</td>\n",
              "      <td>0.958932</td>\n",
              "      <td>0.960486</td>\n",
              "      <td>01:30</td>\n",
              "    </tr>\n",
              "    <tr>\n",
              "      <td>2</td>\n",
              "      <td>0.014580</td>\n",
              "      <td>0.173629</td>\n",
              "      <td>0.958932</td>\n",
              "      <td>0.960486</td>\n",
              "      <td>01:30</td>\n",
              "    </tr>\n",
              "    <tr>\n",
              "      <td>3</td>\n",
              "      <td>0.010460</td>\n",
              "      <td>0.170254</td>\n",
              "      <td>0.959031</td>\n",
              "      <td>0.960486</td>\n",
              "      <td>01:30</td>\n",
              "    </tr>\n",
              "    <tr>\n",
              "      <td>4</td>\n",
              "      <td>0.011146</td>\n",
              "      <td>0.167539</td>\n",
              "      <td>0.959031</td>\n",
              "      <td>0.960486</td>\n",
              "      <td>01:30</td>\n",
              "    </tr>\n",
              "    <tr>\n",
              "      <td>5</td>\n",
              "      <td>0.009146</td>\n",
              "      <td>0.169543</td>\n",
              "      <td>0.959031</td>\n",
              "      <td>0.960486</td>\n",
              "      <td>01:30</td>\n",
              "    </tr>\n",
              "  </tbody>\n",
              "</table>"
            ],
            "text/plain": [
              "<IPython.core.display.HTML object>"
            ]
          },
          "metadata": {
            "tags": []
          }
        },
        {
          "output_type": "display_data",
          "data": {
            "image/png": "[encoded data removed]",
            "text/plain": [
              "<Figure size 432x288 with 1 Axes>"
            ]
          },
          "metadata": {
            "tags": []
          }
        }
      ]
    },
    {
      "cell_type": "code",
      "metadata": {
        "id": "uMmjQC4rliUL",
        "colab_type": "code",
        "colab": {}
      },
      "source": [
        ""
      ],
      "execution_count": null,
      "outputs": []
    },
    {
      "cell_type": "code",
      "metadata": {
        "id": "6NcsUR5nEsiR",
        "colab_type": "code",
        "colab": {}
      },
      "source": [
        "learn.freeze_to(-2)"
      ],
      "execution_count": null,
      "outputs": []
    },
    {
      "cell_type": "code",
      "metadata": {
        "id": "ekLzFsQMFVju",
        "colab_type": "code",
        "colab": {
          "base_uri": "https://localhost:8080/",
          "height": 454
        },
        "outputId": "a3c9929a-dd19-4fe7-cd41-2ecbd52da14f"
      },
      "source": [
        "learn.fit_one_cycle(5, slice(5e-07, lr/20),wd=0.1)"
      ],
      "execution_count": null,
      "outputs": [
        {
          "output_type": "display_data",
          "data": {
            "text/html": [
              "<table border=\"1\" class=\"dataframe\">\n",
              "  <thead>\n",
              "    <tr style=\"text-align: left;\">\n",
              "      <th>epoch</th>\n",
              "      <th>train_loss</th>\n",
              "      <th>valid_loss</th>\n",
              "      <th>f_beta</th>\n",
              "      <th>accuracy</th>\n",
              "      <th>time</th>\n",
              "    </tr>\n",
              "  </thead>\n",
              "  <tbody>\n",
              "    <tr>\n",
              "      <td>0</td>\n",
              "      <td>0.014983</td>\n",
              "      <td>0.202553</td>\n",
              "      <td>0.965334</td>\n",
              "      <td>0.966565</td>\n",
              "      <td>00:47</td>\n",
              "    </tr>\n",
              "    <tr>\n",
              "      <td>1</td>\n",
              "      <td>0.013094</td>\n",
              "      <td>0.198812</td>\n",
              "      <td>0.965334</td>\n",
              "      <td>0.966565</td>\n",
              "      <td>00:47</td>\n",
              "    </tr>\n",
              "    <tr>\n",
              "      <td>2</td>\n",
              "      <td>0.015565</td>\n",
              "      <td>0.201992</td>\n",
              "      <td>0.962137</td>\n",
              "      <td>0.963526</td>\n",
              "      <td>00:47</td>\n",
              "    </tr>\n",
              "    <tr>\n",
              "      <td>3</td>\n",
              "      <td>0.017525</td>\n",
              "      <td>0.197177</td>\n",
              "      <td>0.962227</td>\n",
              "      <td>0.963526</td>\n",
              "      <td>00:47</td>\n",
              "    </tr>\n",
              "    <tr>\n",
              "      <td>4</td>\n",
              "      <td>0.014969</td>\n",
              "      <td>0.195130</td>\n",
              "      <td>0.962227</td>\n",
              "      <td>0.963526</td>\n",
              "      <td>00:47</td>\n",
              "    </tr>\n",
              "  </tbody>\n",
              "</table>"
            ],
            "text/plain": [
              "<IPython.core.display.HTML object>"
            ]
          },
          "metadata": {
            "tags": []
          }
        },
        {
          "output_type": "display_data",
          "data": {
            "image/png": "[encoded data removed]",
            "text/plain": [
              "<Figure size 432x288 with 1 Axes>"
            ]
          },
          "metadata": {
            "tags": []
          }
        }
      ]
    },
    {
      "cell_type": "code",
      "metadata": {
        "id": "jnGT8J55FXgz",
        "colab_type": "code",
        "colab": {
          "base_uri": "https://localhost:8080/",
          "height": 483
        },
        "outputId": "b3eaa97c-fcaa-42ac-df9b-858cc63b4809"
      },
      "source": [
        "learn.fit_one_cycle(6, slice(1e-07, lr/100))"
      ],
      "execution_count": null,
      "outputs": [
        {
          "output_type": "display_data",
          "data": {
            "text/html": [
              "<table border=\"1\" class=\"dataframe\">\n",
              "  <thead>\n",
              "    <tr style=\"text-align: left;\">\n",
              "      <th>epoch</th>\n",
              "      <th>train_loss</th>\n",
              "      <th>valid_loss</th>\n",
              "      <th>f_beta</th>\n",
              "      <th>accuracy</th>\n",
              "      <th>time</th>\n",
              "    </tr>\n",
              "  </thead>\n",
              "  <tbody>\n",
              "    <tr>\n",
              "      <td>0</td>\n",
              "      <td>0.005036</td>\n",
              "      <td>0.180168</td>\n",
              "      <td>0.962137</td>\n",
              "      <td>0.963526</td>\n",
              "      <td>00:18</td>\n",
              "    </tr>\n",
              "    <tr>\n",
              "      <td>1</td>\n",
              "      <td>0.008676</td>\n",
              "      <td>0.175676</td>\n",
              "      <td>0.962137</td>\n",
              "      <td>0.963526</td>\n",
              "      <td>00:19</td>\n",
              "    </tr>\n",
              "    <tr>\n",
              "      <td>2</td>\n",
              "      <td>0.007782</td>\n",
              "      <td>0.171724</td>\n",
              "      <td>0.965334</td>\n",
              "      <td>0.966565</td>\n",
              "      <td>00:19</td>\n",
              "    </tr>\n",
              "    <tr>\n",
              "      <td>3</td>\n",
              "      <td>0.008600</td>\n",
              "      <td>0.167103</td>\n",
              "      <td>0.965334</td>\n",
              "      <td>0.966565</td>\n",
              "      <td>00:19</td>\n",
              "    </tr>\n",
              "    <tr>\n",
              "      <td>4</td>\n",
              "      <td>0.008219</td>\n",
              "      <td>0.168360</td>\n",
              "      <td>0.965334</td>\n",
              "      <td>0.966565</td>\n",
              "      <td>00:18</td>\n",
              "    </tr>\n",
              "    <tr>\n",
              "      <td>5</td>\n",
              "      <td>0.007756</td>\n",
              "      <td>0.176110</td>\n",
              "      <td>0.965334</td>\n",
              "      <td>0.966565</td>\n",
              "      <td>00:18</td>\n",
              "    </tr>\n",
              "  </tbody>\n",
              "</table>"
            ],
            "text/plain": [
              "<IPython.core.display.HTML object>"
            ]
          },
          "metadata": {
            "tags": []
          }
        },
        {
          "output_type": "display_data",
          "data": {
            "image/png": "[encoded data removed]",
            "text/plain": [
              "<Figure size 432x288 with 1 Axes>"
            ]
          },
          "metadata": {
            "tags": []
          }
        }
      ]
    },
    {
      "cell_type": "code",
      "metadata": {
        "id": "XXutPJ_2HyL_",
        "colab_type": "code",
        "colab": {}
      },
      "source": [
        "pred_val,y = learn.TTA(ds_type=DatasetType.Valid)\n",
        "from sklearn.metrics import f1_score, accuracy_score\n",
        "valid_preds = [np.argmax(pred_val[i])+1 for i in range(len(pred_val))]\n",
        "valid_preds = np.array(valid_preds)\n",
        "y = np.array(y+1)\n",
        "accuracy_score(valid_preds,y),f1_score(valid_preds,y, average='micro')"
      ],
      "execution_count": null,
      "outputs": []
    },
    {
      "cell_type": "code",
      "metadata": {
        "id": "2d3PCNiPH9Yp",
        "colab_type": "code",
        "colab": {
          "base_uri": "https://localhost:8080/",
          "height": 17
        },
        "outputId": "a26c41e9-a465-4f49-8fec-c73f494864d2"
      },
      "source": [
        "preds,_ = learn.TTA(ds_type=DatasetType.Test)\n",
        "# preds,_ = learn.get_preds(ds_type = DatasetType.Test)\n",
        "labelled_preds = [np.argmax(preds[i]) for i in range(len(preds))]\n",
        "labelled_preds = np.array(labelled_preds)"
      ],
      "execution_count": null,
      "outputs": [
        {
          "output_type": "display_data",
          "data": {
            "text/html": [
              ""
            ],
            "text/plain": [
              "<IPython.core.display.HTML object>"
            ]
          },
          "metadata": {
            "tags": []
          }
        },
        {
          "output_type": "display_data",
          "data": {
            "text/html": [
              ""
            ],
            "text/plain": [
              "<IPython.core.display.HTML object>"
            ]
          },
          "metadata": {
            "tags": []
          }
        }
      ]
    },
    {
      "cell_type": "code",
      "metadata": {
        "id": "P2EeIGzgIHwg",
        "colab_type": "code",
        "colab": {}
      },
      "source": [
        "df = pd.DataFrame({'image_names':test_df['image_names'], 'emergency_or_not':labelled_preds}, columns=['image_names', 'emergency_or_not'])\n",
        "# df[\"emergency_or_not\"] = df[\"emergency_or_not\"]\n",
        "df.to_csv('submission3.csv', index=False)"
      ],
      "execution_count": null,
      "outputs": []
    },
    {
      "cell_type": "code",
      "metadata": {
        "id": "YfHcqO3RIyjO",
        "colab_type": "code",
        "colab": {}
      },
      "source": [
        ""
      ],
      "execution_count": null,
      "outputs": []
    },
    {
      "cell_type": "code",
      "metadata": {
        "id": "95OCvNbTi9zy",
        "colab_type": "code",
        "colab": {}
      },
      "source": [
        ""
      ],
      "execution_count": null,
      "outputs": []
    }
  ]
}